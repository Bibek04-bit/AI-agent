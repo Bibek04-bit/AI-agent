{
  "nbformat": 4,
  "nbformat_minor": 0,
  "metadata": {
    "colab": {
      "provenance": [],
      "mount_file_id": "1M6acTbVxVZSjFjwEy7RQ7TbADDUgfsed",
      "authorship_tag": "ABX9TyMVTrTpPQR5QbLjnFLPecfb",
      "include_colab_link": true
    },
    "kernelspec": {
      "name": "python3",
      "display_name": "Python 3"
    },
    "language_info": {
      "name": "python"
    }
  },
  "cells": [
    {
      "cell_type": "markdown",
      "metadata": {
        "id": "view-in-github",
        "colab_type": "text"
      },
      "source": [
        "<a href=\"https://colab.research.google.com/github/Bibek04-bit/AI-agent/blob/main/Flood_severity_labeling.ipynb\" target=\"_parent\"><img src=\"https://colab.research.google.com/assets/colab-badge.svg\" alt=\"Open In Colab\"/></a>"
      ]
    },
    {
      "cell_type": "code",
      "execution_count": null,
      "metadata": {
        "colab": {
          "base_uri": "https://localhost:8080/"
        },
        "id": "PC6jXCR9PpZs",
        "outputId": "f274d1a5-effe-4ffe-a5dc-a17b1545425a"
      },
      "outputs": [
        {
          "output_type": "stream",
          "name": "stdout",
          "text": [
            "Mounted at /content/drive\n"
          ]
        }
      ],
      "source": [
        "from google.colab import drive\n",
        "drive.mount('/content/drive')"
      ]
    },
    {
      "cell_type": "code",
      "source": [
        "import pandas as pd\n",
        "path_to_file = '/content/drive/MyDrive/Colab Notebooks/Karnali_data_trial.csv'\n",
        "df = pd.read_csv(path_to_file)\n",
        "print(df.head())"
      ],
      "metadata": {
        "colab": {
          "base_uri": "https://localhost:8080/"
        },
        "id": "X1rXDGPrS9ZZ",
        "outputId": "ac53ff69-56e6-4993-849a-cf148072d79e"
      },
      "execution_count": null,
      "outputs": [
        {
          "output_type": "stream",
          "name": "stdout",
          "text": [
            "         Date  Daily flow Rate  Gauge height flow    NDVI  sm_top_0_10cm  \\\n",
            "0  2009-01-01              470               3.36  0.7687            NaN   \n",
            "1  2009-01-02              460               3.34     NaN            NaN   \n",
            "2  2009-01-03              456               3.33     NaN            NaN   \n",
            "3  2009-01-04              448               3.31     NaN            NaN   \n",
            "4  2009-01-05              445               3.30     NaN            NaN   \n",
            "\n",
            "   sm_10_40cm  24h accumulated  Daily Max Temp  Daily Min Temp  \n",
            "0         NaN              0.0             NaN             NaN  \n",
            "1         NaN              0.0             NaN             NaN  \n",
            "2         NaN              0.0             NaN             NaN  \n",
            "3         NaN              0.0             NaN             NaN  \n",
            "4         NaN              0.0             NaN             NaN  \n"
          ]
        }
      ]
    },
    {
      "cell_type": "code",
      "source": [
        "df[\"gauge_norm\"] = (df[\"Gauge height flow\"] - df[\"Gauge height flow\"].min()) / (df[\"Gauge height flow\"].max() - df[\"Gauge height flow\"].min())\n",
        "df[\"flow_norm\"]  = (df[\"Daily flow Rate\"] - df[\"Daily flow Rate\"].min()) / (df[\"Daily flow Rate\"].max() - df[\"Daily flow Rate\"].min())\n",
        "\n",
        "\n",
        "df[\"flood_index\"] = 0.6 * df[\"gauge_norm\"] + 0.4 * df[\"flow_norm\"]\n",
        "\n",
        "\n",
        "def classify_flood(index):\n",
        "    if index < 0.3:\n",
        "        return 0   # No Flood\n",
        "    elif index < 0.55:\n",
        "        return 1   # Low Risk\n",
        "    elif index < 0.75:\n",
        "        return 2   # Medium Risk\n",
        "    else:\n",
        "        return 3   # High Risk\n",
        "\n",
        "df[\"Flood_Level\"] = df[\"flood_index\"].apply(classify_flood)\n",
        "\n",
        "\n",
        "df.to_csv(\"karnali_flood_classified.csv\", index=False)\n",
        "\n",
        "print(df.head())"
      ],
      "metadata": {
        "colab": {
          "base_uri": "https://localhost:8080/"
        },
        "id": "MSK5TKjWTqDy",
        "outputId": "3e6ed5d3-15d2-4918-c494-3c8d4a182ecf"
      },
      "execution_count": null,
      "outputs": [
        {
          "output_type": "stream",
          "name": "stdout",
          "text": [
            "         Date  Daily flow Rate  Gauge height flow    NDVI  sm_top_0_10cm  \\\n",
            "0  2009-01-01              470               3.36  0.7687            NaN   \n",
            "1  2009-01-02              460               3.34     NaN            NaN   \n",
            "2  2009-01-03              456               3.33     NaN            NaN   \n",
            "3  2009-01-04              448               3.31     NaN            NaN   \n",
            "4  2009-01-05              445               3.30     NaN            NaN   \n",
            "\n",
            "   sm_10_40cm  24h accumulated  Daily Max Temp  Daily Min Temp  gauge_norm  \\\n",
            "0         NaN              0.0             NaN             NaN    0.217881   \n",
            "1         NaN              0.0             NaN             NaN    0.216379   \n",
            "2         NaN              0.0             NaN             NaN    0.215627   \n",
            "3         NaN              0.0             NaN             NaN    0.214125   \n",
            "4         NaN              0.0             NaN             NaN    0.213373   \n",
            "\n",
            "   flow_norm  flood_index  Flood_Level  \n",
            "0   0.015588     0.136964            0  \n",
            "1   0.015023     0.135836            0  \n",
            "2   0.014797     0.135295            0  \n",
            "3   0.014345     0.134213            0  \n",
            "4   0.014176     0.133694            0  \n"
          ]
        }
      ]
    },
    {
      "cell_type": "code",
      "source": [
        "from google.colab import files\n",
        "files.download('karnali_flood_classified.csv')"
      ],
      "metadata": {
        "colab": {
          "base_uri": "https://localhost:8080/",
          "height": 17
        },
        "id": "WdYYzYLgUeiC",
        "outputId": "ed9b11e6-19b1-4597-a7c4-ebf7f29d391b"
      },
      "execution_count": null,
      "outputs": [
        {
          "output_type": "display_data",
          "data": {
            "text/plain": [
              "<IPython.core.display.Javascript object>"
            ],
            "application/javascript": [
              "\n",
              "    async function download(id, filename, size) {\n",
              "      if (!google.colab.kernel.accessAllowed) {\n",
              "        return;\n",
              "      }\n",
              "      const div = document.createElement('div');\n",
              "      const label = document.createElement('label');\n",
              "      label.textContent = `Downloading \"${filename}\": `;\n",
              "      div.appendChild(label);\n",
              "      const progress = document.createElement('progress');\n",
              "      progress.max = size;\n",
              "      div.appendChild(progress);\n",
              "      document.body.appendChild(div);\n",
              "\n",
              "      const buffers = [];\n",
              "      let downloaded = 0;\n",
              "\n",
              "      const channel = await google.colab.kernel.comms.open(id);\n",
              "      // Send a message to notify the kernel that we're ready.\n",
              "      channel.send({})\n",
              "\n",
              "      for await (const message of channel.messages) {\n",
              "        // Send a message to notify the kernel that we're ready.\n",
              "        channel.send({})\n",
              "        if (message.buffers) {\n",
              "          for (const buffer of message.buffers) {\n",
              "            buffers.push(buffer);\n",
              "            downloaded += buffer.byteLength;\n",
              "            progress.value = downloaded;\n",
              "          }\n",
              "        }\n",
              "      }\n",
              "      const blob = new Blob(buffers, {type: 'application/binary'});\n",
              "      const a = document.createElement('a');\n",
              "      a.href = window.URL.createObjectURL(blob);\n",
              "      a.download = filename;\n",
              "      div.appendChild(a);\n",
              "      a.click();\n",
              "      div.remove();\n",
              "    }\n",
              "  "
            ]
          },
          "metadata": {}
        },
        {
          "output_type": "display_data",
          "data": {
            "text/plain": [
              "<IPython.core.display.Javascript object>"
            ],
            "application/javascript": [
              "download(\"download_be77a0a2-2495-414d-894e-44033a432f52\", \"karnali_flood_classified.csv\", 636760)"
            ]
          },
          "metadata": {}
        }
      ]
    },
    {
      "cell_type": "code",
      "source": [
        "from google.colab import drive\n",
        "import os\n",
        "\n",
        "drive.mount('/content/drive')\n",
        "\n",
        "\n",
        "save_directory = '/content/drive/MyDrive/Colab Notebooks/'\n",
        "\n",
        "\n",
        "if not os.path.exists(save_directory):\n",
        "    os.makedirs(save_directory)\n",
        "    print(f\"Directory '{save_directory}' created.\")\n",
        "else:\n",
        "    print(f\"Directory '{save_directory}' already exists.\")\n",
        "\n",
        "\n",
        "df.to_csv(os.path.join(save_directory, \"karnali_flood_classified.csv\"), index=False)\n",
        "print(\"File saved successfully to Google Drive.\")"
      ],
      "metadata": {
        "colab": {
          "base_uri": "https://localhost:8080/"
        },
        "id": "WeTIOx1XUiGA",
        "outputId": "34d150c3-ee51-4709-9b4a-d0c1b247f22a"
      },
      "execution_count": null,
      "outputs": [
        {
          "output_type": "stream",
          "name": "stdout",
          "text": [
            "Drive already mounted at /content/drive; to attempt to forcibly remount, call drive.mount(\"/content/drive\", force_remount=True).\n",
            "Directory '/content/drive/MyDrive/Colab Notebooks/' already exists.\n",
            "File saved successfully to Google Drive.\n"
          ]
        }
      ]
    }
  ]
}